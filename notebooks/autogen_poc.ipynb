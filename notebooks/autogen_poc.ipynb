{
 "cells": [
  {
   "cell_type": "code",
   "execution_count": null,
   "metadata": {
    "vscode": {
     "languageId": "plaintext"
    }
   },
   "outputs": [],
   "source": [
    "import os\n",
    "import json\n",
    "from autogen import Assistant"
   ]
  },
  {
   "cell_type": "code",
   "execution_count": null,
   "metadata": {
    "vscode": {
     "languageId": "plaintext"
    }
   },
   "outputs": [],
   "source": [
    "import pandas as pd\n",
    "\n",
    "def load_data(file_path):\n",
    "    return pd.read_csv(file_path)\n"
   ]
  },
  {
   "cell_type": "code",
   "execution_count": null,
   "metadata": {
    "vscode": {
     "languageId": "plaintext"
    }
   },
   "outputs": [],
   "source": [
    "# Carregar credenciais do arquivo azure_config.json\n",
    "with open(\"config/azure_config.json\", \"r\") as f:\n",
    "    azure_config = json.load(f)\n",
    "\n",
    "# Configurar variáveis de ambiente\n",
    "os.environ[\"AZURE_OPENAI_ENDPOINT\"] = azure_config[\"endpoint\"]\n",
    "os.environ[\"AZURE_OPENAI_KEY\"] = azure_config[\"key\"]\n",
    "\n",
    "print(\"Autenticação configurada com sucesso!\")"
   ]
  },
  {
   "cell_type": "code",
   "execution_count": null,
   "metadata": {
    "vscode": {
     "languageId": "plaintext"
    }
   },
   "outputs": [],
   "source": [
    "# Configuração do Assistente\n",
    "assistant = Assistant()"
   ]
  },
  {
   "cell_type": "code",
   "execution_count": null,
   "metadata": {
    "vscode": {
     "languageId": "plaintext"
    }
   },
   "outputs": [],
   "source": [
    "# DataFrames simulados\n",
    "notas_medicas = [\"Paciente com dor abdominal.\", \"Diabetes tipo 2 controlado.\"]\n",
    "notas_enfermagem = [\"Troca de curativo realizada.\", \"Paciente afebril.\"]\n",
    "laudos_imagens = [\"Lesão expansiva em hemisfério esquerdo.\", \"Sem alterações.\"]"
   ]
  },
  {
   "cell_type": "code",
   "execution_count": null,
   "metadata": {
    "vscode": {
     "languageId": "plaintext"
    }
   },
   "outputs": [],
   "source": [
    "# Função para lidar com contextos\n",
    "def selecionar_contexto(pergunta, notas_medicas, notas_enfermagem, laudos_imagens):\n",
    "    # Configurar os contextos no assistente\n",
    "    contextos = {\n",
    "        \"notas_medicas\": notas_medicas,\n",
    "        \"notas_enfermagem\": notas_enfermagem,\n",
    "        \"laudos_imagens\": laudos_imagens,\n",
    "    }\n",
    "    \n",
    "    # Perguntar ao assistente\n",
    "    resposta = assistant.run(\n",
    "        question=pergunta,\n",
    "        context=contextos\n",
    "    )\n",
    "    \n",
    "    return resposta"
   ]
  },
  {
   "cell_type": "code",
   "execution_count": null,
   "metadata": {
    "vscode": {
     "languageId": "plaintext"
    }
   },
   "outputs": [],
   "source": [
    "# Exemplo de pergunta\n",
    "pergunta = \"Quais são os principais problemas médicos do paciente?\"\n",
    "resposta = selecionar_contexto(pergunta, notas_medicas, notas_enfermagem, laudos_imagens)\n",
    "print(\"Resposta:\", resposta)"
   ]
  },
  {
   "cell_type": "code",
   "execution_count": null,
   "metadata": {
    "vscode": {
     "languageId": "plaintext"
    }
   },
   "outputs": [],
   "source": [
    "# Inicializar os assistentes\n",
    "primary_assistant = Assistant()\n",
    "summary_assistant = Assistant()"
   ]
  },
  {
   "cell_type": "code",
   "execution_count": null,
   "metadata": {
    "vscode": {
     "languageId": "plaintext"
    }
   },
   "outputs": [],
   "source": [
    "# Simular função para selecionar o contexto dinâmico\n",
    "def selecionar_contexto(pergunta, contextos):\n",
    "    resposta = primary_assistant.run(question=pergunta, context=contextos)\n",
    "    return resposta"
   ]
  },
  {
   "cell_type": "code",
   "execution_count": null,
   "metadata": {
    "vscode": {
     "languageId": "plaintext"
    }
   },
   "outputs": [],
   "source": [
    "# Contextos disponíveis\n",
    "notas_medicas = [\"Paciente com dor abdominal.\", \"Diabetes tipo 2 controlado.\"]\n",
    "notas_enfermagem = [\"Troca de curativo realizada.\", \"Paciente afebril.\"]\n",
    "laudos_imagens = [\"Lesão expansiva em hemisfério esquerdo.\", \"Sem alterações.\"]\n",
    "\n",
    "contextos = {\n",
    "    \"notas_medicas\": notas_medicas,\n",
    "    \"notas_enfermagem\": notas_enfermagem,\n",
    "    \"laudos_imagens\": laudos_imagens,\n",
    "}"
   ]
  },
  {
   "cell_type": "code",
   "execution_count": null,
   "metadata": {
    "vscode": {
     "languageId": "plaintext"
    }
   },
   "outputs": [],
   "source": [
    "# Pergunta do usuário\n",
    "pergunta = \"Quais são as informações médicas do paciente?\"\n",
    "\n",
    "# Seleção do contexto dinâmico\n",
    "contexto_selecionado = selecionar_contexto(pergunta, contextos)\n",
    "\n",
    "# Acionamento do assistente de resumo, se o contexto for notas médicas\n",
    "if contexto_selecionado == \"notas_medicas\":\n",
    "    resumo = summary_assistant.run(\n",
    "        question=\"Resuma as informações médicas do paciente.\",\n",
    "        context={\"notas_medicas\": notas_medicas}\n",
    "    )\n",
    "    print(\"Resumo gerado pelo assistente secundário:\", resumo)\n",
    "else:\n",
    "    print(f\"Contexto selecionado: {contexto_selecionado}. Nenhum resumo gerado.\")"
   ]
  }
 ],
 "metadata": {
  "language_info": {
   "name": "python"
  }
 },
 "nbformat": 4,
 "nbformat_minor": 2
}
